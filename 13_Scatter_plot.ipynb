{
  "nbformat": 4,
  "nbformat_minor": 0,
  "metadata": {
    "colab": {
      "provenance": [],
      "authorship_tag": "ABX9TyOiQ/kmOM3ynzCqr5+LATr7"
    },
    "kernelspec": {
      "name": "python3",
      "display_name": "Python 3"
    },
    "language_info": {
      "name": "python"
    }
  },
  "cells": [
    {
      "cell_type": "code",
      "execution_count": null,
      "metadata": {
        "id": "zxYYX_jGdJDC"
      },
      "outputs": [],
      "source": [
        "# import pandas and matplotlib.pyplot libraries\n",
        "import pandas as pd\n",
        "import matplotlib.pyplot as plt\n",
        "\n",
        "# create a dictionary with sample data\n",
        "data = {\n",
        "    'Sales': [100, 150, 80, 120, 140, 130, 110, 145, 105, 90],\n",
        "    'Profit': [50, 70, 40, 60, 75, 65, 55, 72, 52, 45]\n",
        "}\n",
        "\n",
        "# create a pandas dataframe from the dictionary\n",
        "df = pd.DataFrame(data)\n",
        "\n",
        "# plot the dataframe as a scatter plot\n",
        "df.plot(x='Sales', y='Profit', kind='scatter')\n",
        "\n",
        "# set the x-axis and y-axis labels\n",
        "plt.xlabel('Sales Value')\n",
        "plt.ylabel('Profit Value')\n",
        "\n",
        "# set the title of the plot\n",
        "plt.title('Relationship between Sales and Profit')\n",
        "\n",
        "# save the plot to a file\n",
        "plt.savefig('scatter_plot.png', dpi=300, bbox_inches='tight')\n",
        "\n",
        "# display the plot\n",
        "plt.show()"
      ]
    },
    {
      "cell_type": "code",
      "source": [],
      "metadata": {
        "id": "ShhxtaOzdMtH"
      },
      "execution_count": null,
      "outputs": []
    }
  ]
}